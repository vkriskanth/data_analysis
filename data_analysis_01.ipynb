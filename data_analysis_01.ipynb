{
 "cells": [
  {
   "cell_type": "code",
   "execution_count": 1,
   "id": "b2ea0305",
   "metadata": {},
   "outputs": [
    {
     "name": "stdout",
     "output_type": "stream",
     "text": [
      "0    1\n",
      "1    2\n",
      "2    3\n",
      "3    4\n",
      "4    5\n",
      "5    6\n",
      "6    7\n",
      "7    8\n",
      "8    9\n",
      "dtype: int64\n",
      "---------------\n",
      "the index 3 -> value is 4\n"
     ]
    }
   ],
   "source": [
    "#Create a series from a list\n",
    "import pandas as pd\n",
    "\n",
    "l = range(1,10)\n",
    "s = pd.Series(l)\n",
    "\n",
    "print(s)\n",
    "\n",
    "print(\"---------------\")\n",
    "x = 3\n",
    "print(\"the index {} -> value is {}\".format(x,s[x]))"
   ]
  },
  {
   "cell_type": "code",
   "execution_count": 2,
   "id": "492fe79c",
   "metadata": {},
   "outputs": [
    {
     "name": "stdout",
     "output_type": "stream",
     "text": [
      "aa       1\n",
      "bb       2\n",
      "ccc      3\n",
      "dddd     4\n",
      "eeeee    5\n",
      "dtype: int64\n",
      "---------------\n",
      "the index ccc -> value is 3\n"
     ]
    }
   ],
   "source": [
    "#create a series with specified index\n",
    "l = range(1, 6)\n",
    "idx = [\"aa\", \"bb\", \"ccc\",\"dddd\",\"eeeee\"]\n",
    "s = pd.Series(l, idx)\n",
    "print(s)\n",
    "\n",
    "print(\"---------------\")\n",
    "x = \"ccc\"\n",
    "print(\"the index {} -> value is {}\".format(x,s[x]))"
   ]
  },
  {
   "cell_type": "code",
   "execution_count": 3,
   "id": "c4cc5ba4",
   "metadata": {},
   "outputs": [
    {
     "name": "stdout",
     "output_type": "stream",
     "text": [
      "bb     1\n",
      "a      0\n",
      "ccc    2\n",
      "dtype: int64\n",
      "---------------\n",
      "the index ccc -> value is 2\n"
     ]
    }
   ],
   "source": [
    "#create a series from python dict\n",
    "d = {'bb': 1, 'a': 0, 'ccc':2}\n",
    "s = pd.Series(d)\n",
    "print(s)\n",
    "\n",
    "print(\"---------------\")\n",
    "x = \"ccc\"\n",
    "print(\"the index {} -> value is {}\".format(x,s[x]))"
   ]
  },
  {
   "cell_type": "code",
   "execution_count": 5,
   "id": "704cd6cf",
   "metadata": {},
   "outputs": [
    {
     "name": "stdout",
     "output_type": "stream",
     "text": [
      "<class 'numpy.ndarray'>\n",
      "-----------------\n",
      "0    1\n",
      "1    2\n",
      "2    3\n",
      "3    4\n",
      "4    5\n",
      "5    6\n",
      "6    7\n",
      "7    8\n",
      "8    9\n",
      "dtype: int64\n",
      "the index 3 -> value is 4\n"
     ]
    }
   ],
   "source": [
    "#create a series from numpy ndarray\n",
    "import numpy as np\n",
    "\n",
    "l = np.arange(1, 10)\n",
    "print(type(l))\n",
    "\n",
    "print(\"-----------------\")\n",
    "s = pd.Series(l)\n",
    "\n",
    "print(s)\n",
    "i = 3\n",
    "print(\"the index {} -> value is {}\".format(i,s[i]))\n"
   ]
  },
  {
   "cell_type": "code",
   "execution_count": 6,
   "id": "858fe2c0",
   "metadata": {},
   "outputs": [
    {
     "name": "stdout",
     "output_type": "stream",
     "text": [
      "0    3\n",
      "dtype: int64\n",
      "-------------------\n",
      "1    3\n",
      "2    3\n",
      "3    3\n",
      "dtype: int64\n"
     ]
    }
   ],
   "source": [
    "#create a series from a scalar value\n",
    "\n",
    "s = pd.Series(3)\n",
    "\n",
    "print(s)\n",
    "print(\"-------------------\")\n",
    "s = pd.Series(3, index = range(1,4))\n",
    "print(s)"
   ]
  },
  {
   "cell_type": "code",
   "execution_count": null,
   "id": "1ead546e",
   "metadata": {},
   "outputs": [],
   "source": []
  }
 ],
 "metadata": {
  "kernelspec": {
   "display_name": "Python 3 (ipykernel)",
   "language": "python",
   "name": "python3"
  },
  "language_info": {
   "codemirror_mode": {
    "name": "ipython",
    "version": 3
   },
   "file_extension": ".py",
   "mimetype": "text/x-python",
   "name": "python",
   "nbconvert_exporter": "python",
   "pygments_lexer": "ipython3",
   "version": "3.9.13"
  }
 },
 "nbformat": 4,
 "nbformat_minor": 5
}
